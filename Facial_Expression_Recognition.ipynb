{
  "nbformat": 4,
  "nbformat_minor": 0,
  "metadata": {
    "colab": {
      "name": "facial_Expression_Recognition.ipynb",
      "provenance": [],
      "include_colab_link": true
    },
    "kernelspec": {
      "name": "python3",
      "display_name": "Python 3"
    },
    "language_info": {
      "name": "python"
    }
  },
  "cells": [
    {
      "cell_type": "markdown",
      "metadata": {
        "id": "view-in-github",
        "colab_type": "text"
      },
      "source": [
        "<a href=\"https://colab.research.google.com/github/uxanirudh/Facial-Emotion-Recognition/blob/main/Facial_Expression_Recognition.ipynb\" target=\"_parent\"><img src=\"https://colab.research.google.com/assets/colab-badge.svg\" alt=\"Open In Colab\"/></a>"
      ]
    },
    {
      "cell_type": "code",
      "execution_count": null,
      "metadata": {
        "id": "LaglStP6ZEYs"
      },
      "outputs": [],
      "source": [
        "import os\n",
        "import shutil\n",
        "import random #for random distribution of data\n",
        "from shutil import copyfile\n",
        "from os import getcwd  # getcwd returns current working directory\n",
        "import pandas as pd # for data manipulation\n",
        "import numpy as np # for operation\n",
        "import tensorflow as tf\n",
        "from tensorflow.keras.preprocessing import image # for image processing\n",
        "import matplotlib.pyplot as plt\n",
        "from keras.utils import np_utils\n",
        "import cv2\n",
        "from google.colab.patches import cv2_imshow\n",
        "from scipy import stats\n",
        "from PIL import Image\n",
        "import math\n",
        "%matplotlib inline\n",
        "import matplotlib.image as mpimg\n",
        "import numpy as np\n",
        "import dlib\n",
        "from tensorflow.keras.preprocessing.image import ImageDataGenerator"
      ]
    },
    {
      "cell_type": "code",
      "source": [
        "from google.colab import drive    # for importing dataset from google drive\n",
        "drive.mount('/content/drive')"
      ],
      "metadata": {
        "colab": {
          "base_uri": "https://localhost:8080/"
        },
        "id": "EDUtBsUPZGy0",
        "outputId": "e1c5162e-d047-4cde-d22a-a62dca37c8d6"
      },
      "execution_count": null,
      "outputs": [
        {
          "output_type": "stream",
          "name": "stdout",
          "text": [
            "Drive already mounted at /content/drive; to attempt to forcibly remount, call drive.mount(\"/content/drive\", force_remount=True).\n"
          ]
        }
      ]
    },
    {
      "cell_type": "code",
      "source": [
        "from zipfile import ZipFile              # for importing dataset locally from the colab\n",
        "file_name = 'datasets.zip'        \n",
        "with ZipFile(file_name,'r') as zip:\n",
        "  zip.extractall()"
      ],
      "metadata": {
        "id": "8EPLjbNKao2r"
      },
      "execution_count": null,
      "outputs": []
    },
    {
      "cell_type": "code",
      "source": [
        "SOURCE = '/content/CK+48'     #source directory for images\n"
      ],
      "metadata": {
        "id": "T02x-hDlcNdp"
      },
      "execution_count": null,
      "outputs": []
    },
    {
      "cell_type": "code",
      "source": [
        "os.listdir(SOURCE)            # subdirectories of source directory"
      ],
      "metadata": {
        "colab": {
          "base_uri": "https://localhost:8080/"
        },
        "id": "9DD_ZxDkcWQw",
        "outputId": "06f99256-6dd5-4d47-dc5d-8548909a9e51"
      },
      "execution_count": null,
      "outputs": [
        {
          "output_type": "execute_result",
          "data": {
            "text/plain": [
              "['anger', 'fear', 'sadness', 'surprise', 'disgust', 'happy', 'contempt']"
            ]
          },
          "metadata": {},
          "execution_count": 24
        }
      ]
    },
    {
      "cell_type": "code",
      "source": [
        "def HistEqualization(image, number_bins = 256):         #implementing the histogram equalization\n",
        "  # get the image histogram\n",
        "  image_Hist, bins = np.histogram(image.flatten(), number_bins, [0, 256])\n",
        "  cdf = image_Hist.cumsum() # cumulative distribution function\n",
        "  cdf = image_Hist.max()*cdf/cdf.max()  #normalize\n",
        "  cdf_mask = np.ma.masked_equal(cdf, 0)\n",
        "  cdf_mask = (cdf_mask - cdf_mask.min())*255/(cdf_mask.max()-cdf_mask.min())\n",
        "  cdf = np.ma.filled(cdf_mask,0).astype('uint8')\n",
        "  return cdf[image.astype('uint8')]\n"
      ],
      "metadata": {
        "id": "3xLdjK2gck70"
      },
      "execution_count": null,
      "outputs": []
    },
    {
      "cell_type": "code",
      "source": [
        "!wget http://dlib.net/files/shape_predictor_68_face_landmarks.dat.bz2\n",
        "!bunzip2 \"shape_predictor_68_face_landmarks.dat.bz2\""
      ],
      "metadata": {
        "colab": {
          "base_uri": "https://localhost:8080/"
        },
        "id": "ddvAcehYcmzZ",
        "outputId": "4165bf99-249b-43fa-9e7a-3f389a7e0f03"
      },
      "execution_count": null,
      "outputs": [
        {
          "output_type": "stream",
          "name": "stdout",
          "text": [
            "--2022-08-25 15:15:20--  http://dlib.net/files/shape_predictor_68_face_landmarks.dat.bz2\n",
            "Resolving dlib.net (dlib.net)... 107.180.26.78\n",
            "Connecting to dlib.net (dlib.net)|107.180.26.78|:80... connected.\n",
            "HTTP request sent, awaiting response... 200 OK\n",
            "Length: 64040097 (61M)\n",
            "Saving to: ‘shape_predictor_68_face_landmarks.dat.bz2.3’\n",
            "\n",
            "shape_predictor_68_ 100%[===================>]  61.07M  14.9MB/s    in 6.5s    \n",
            "\n",
            "2022-08-25 15:15:27 (9.38 MB/s) - ‘shape_predictor_68_face_landmarks.dat.bz2.3’ saved [64040097/64040097]\n",
            "\n"
          ]
        }
      ]
    },
    {
      "cell_type": "code",
      "source": [
        "predictor_path = 'shape_predictor_68_face_landmarks.dat'  # path of data\n",
        "\n",
        "#initializes dlib’s pre-trained face detector based on a modification to the standard Histogram of Oriented Gradients + Linear SVM method for object detection.\n",
        "detector = dlib.get_frontal_face_detector() \n",
        "#loads the facial landmark predictor using the path\n",
        "predictor = dlib.shape_predictor(predictor_path)\n"
      ],
      "metadata": {
        "id": "a7r-7w_Ocu4w"
      },
      "execution_count": null,
      "outputs": []
    },
    {
      "cell_type": "code",
      "source": [
        "# take a bounding predicted by dlib and convert it\n",
        "def rect_to_bb(rect):\n",
        "\t\n",
        "\t# to the format (x, y, w, h) as we would normally do\n",
        "\t# with OpenCV\n",
        "\tx1 = rect.left()\n",
        "\ty1 = rect.top()\n",
        "\tw1 = rect.right() - x1\n",
        "\th1 = rect.bottom() - y1\n",
        "\n",
        "\t# return a tuple of (x, y, w, h)\n",
        "\treturn (x1, y1, w1, h1)\n",
        " \n",
        "# extract 68 coordinate from shape object \n",
        "def shape_to_np(shape, dtype = int):\n",
        "  \n",
        "  coords = np.zeros((68, 2), dtype=dtype)\n",
        "  for i in range(0,68):\n",
        "    coords[i] = (shape.part(i).x, shape.part(i).y)\n",
        "  return coords # loop over the 68 facial landmarks and convert them\n",
        "\n",
        "# calculate forehead distance to use in cropping image\n",
        "def forehead_dist(coords):\n",
        "\n",
        "  d = (np.sum(coords[42:47,1]) - np.sum(coords[36:41,1]))/ 6\n",
        "  return d\n",
        "\n",
        "# calculate angle using eye landmark points i.e 42 to 47 is right eye and 36 to 41 is left eye \n",
        "def required_angle(shape):\n",
        "\t\n",
        "  val = (np.sum(shape[42:47,1]) - np.sum(shape[36:41,1]))/(np.sum(shape[42:47,0]) - np.sum(shape[36:41,0])) \n",
        "  angle = math.degrees(math.atan(val))\n",
        "  return angle\n",
        "\n",
        "#finally rotate image obtained by required_angle function\n",
        "def rotate_image(image, shape):\n",
        "  \n",
        "  angle = required_angle(shape)\n",
        "  image_center = tuple(np.array(image.shape[1::-1]) / 2)\n",
        "  rot_mat = cv2.getRotationMatrix2D(image_center, angle, 1.0)\n",
        "  rotated_image = cv2.warpAffine(image, rot_mat, image.shape[1::-1], flags=cv2.INTER_LINEAR)\n",
        "  return rotated_image"
      ],
      "metadata": {
        "id": "PT7KZzHGks2F"
      },
      "execution_count": null,
      "outputs": []
    },
    {
      "cell_type": "code",
      "source": [
        "def face_alignment(image):             # implementing face alignment\n",
        "  image = np.array(image)\n",
        "  image = image.astype(np.uint8)\n",
        "  gray_image = image\n",
        "  #gray_image = cv2.cvtColor(image ,cv2.COLOR_BGR2GRAY) # convert color image to grayscale image\n",
        "  rects = detector(gray_image ,1)             # detect faces in the grayscale image\n",
        "  if len(rects) > 0:\n",
        "\n",
        "    images = []\n",
        "    for (i, rect) in enumerate(rects):\n",
        "      shape = predictor(image, rect)\n",
        "      shape = shape_to_np(shape)\n",
        "\n",
        "      rotated_image = rotate_image(image , shape)\n",
        "      images.append(rotated_image)\n",
        "    if len(rects) == 1 :\n",
        "      return rotated_image\n",
        "    else:\n",
        "      return images\n",
        "  else:\n",
        "    #print(\"Error : number of detected face is zero, so we just return original image\")\n",
        "    return image"
      ],
      "metadata": {
        "id": "6e29u6VUk6S4"
      },
      "execution_count": null,
      "outputs": []
    },
    {
      "cell_type": "code",
      "source": [
        "def face_cropping_without_forehead(image):             # implementing face cropping without forehead\n",
        "  gray_image = image\n",
        "  #gray_image = cv2.cvtColor(image,cv2.COLOR_BGR2GRAY)  # convert color image to grayscale image\n",
        "  rects = detector(gray_image ,1)             # detect faces in the grayscale image\n",
        "  if len(rects) > 0:\n",
        "    images = []\n",
        "    for (i, rect) in enumerate(rects):\n",
        "\t\n",
        "      shape = predictor(image, rect)\n",
        "      shape = shape_to_np(shape)\n",
        "    \n",
        "      # convert dlib's rectangle to a OpenCV-style bounding box\n",
        "      # [i.e., (x, y, w, h)], then draw the face bounding box\n",
        "      (x1, y1, w1, h1) = rect_to_bb(rect)\n",
        "\n",
        "      d = forehead_dist(shape)\n",
        "      top_y = int(np.sum(shape[42 : 47, 1]) / 6 - 0.6 * d)\n",
        "      left_x, left_y = shape[0]\n",
        "      bottom_x, bottom_y = shape[8]\n",
        "      right_x, right_y = shape[16]\n",
        "      cropped_image = image[top_y : bottom_y, left_x : right_x]\n",
        "      if cropped_image.shape[0] == 0: \n",
        "        cropped_image = image[0:-1,left_x : right_x] \n",
        "      if cropped_image.shape[1] == 0:\n",
        "        cropped_image = image[top_y : bottom_y,  0:-1]\n",
        "      images.append(cropped_image)\n",
        "    if len(rects) == 1 :\n",
        "      return cropped_image\n",
        "    else:\n",
        "      return images\n",
        "\n",
        "  \n",
        "  else:\n",
        "    #print(\"Error : number of detected face is zero, so we just return original image\")\n",
        "    return image"
      ],
      "metadata": {
        "id": "FuTGcpF0k9ow"
      },
      "execution_count": null,
      "outputs": []
    },
    {
      "cell_type": "code",
      "source": [
        "def face_cropping_without_background(image):         # implementing face cropping without background\n",
        "  gray_image=image\n",
        "  #gray_image = cv2.cvtColor(image,cv2.COLOR_BGR2GRAY)  # convert color image to grayscale image\n",
        "  rects = detector(gray_image ,1)             # detect faces in the grayscale image\n",
        "  if len(rects) > 0:\n",
        "    images = []\n",
        "    for (i, rect) in enumerate(rects):\n",
        "\t\n",
        "      shape = predictor(image, rect)\n",
        "      shape = shape_to_np(shape)\n",
        "    \n",
        "      # convert dlib's rectangle to a OpenCV-style bounding box\n",
        "      # [i.e., (x, y, w, h)], then draw the face bounding box\n",
        "      (x1, y1, w1, h1) = rect_to_bb(rect)\n",
        "\n",
        "      top_x, top_y = shape[19]\n",
        "      left_x, left_y = shape[0]\n",
        "      bottom_x, bottom_y = shape[8]\n",
        "      right_x, right_y = shape[16]\n",
        "      cropped_image = image[ min(top_y, abs(y1)) : max(bottom_y, abs(y1) + w1), min(left_x, abs(x1)) : max(right_x, abs(x1) + w1)]\n",
        "      if cropped_image.shape[0] == 0: \n",
        "        cropped_image = image[:,min(left_x, abs(x1)) : max(right_x, abs(x1) + w1)] \n",
        "      if cropped_image.shape[1] == 0:\n",
        "        cropped_image = image[min(top_y, abs(y1)) : max(bottom_y, abs(y1) + w1), :]\n",
        "      images.append(cropped_image)\n",
        "    if len(rects) == 1 :\n",
        "      return cropped_image\n",
        "    else:\n",
        "      return images\n",
        "  else:\n",
        "    print(\"Error : number of detected face is zero, so we just return original image\")\n",
        "    return image"
      ],
      "metadata": {
        "id": "r1e-N7kMlBrz"
      },
      "execution_count": null,
      "outputs": []
    },
    {
      "cell_type": "code",
      "source": [
        "def preprocessing(images):               # A function for overall preprocessing including alignment ,cropping and normalization\n",
        "  images = face_alignment(images)\n",
        "  images = face_cropping_without_background(images)\n",
        "  images = HistEqualization(images,256)\n",
        "  \n",
        "  normalized_img = stats.zscore(images)\n",
        "  images = normalized_img*255\n",
        "  #images = cv2.cvtColor(images,cv2.COLOR_BGR2GRAY)\n",
        "  images = cv2.resize(images,(100,100))\n",
        "  images = np.array(images)\n",
        "  try:\n",
        "    images = images.reshape(100,100,1)\n",
        "  except:\n",
        "    return images\n",
        "  return images"
      ],
      "metadata": {
        "id": "AIF6X0nIlIkF"
      },
      "execution_count": null,
      "outputs": []
    },
    {
      "cell_type": "code",
      "source": [
        "os.mkdir('/content/images')\n",
        "os.mkdir('/content/images/train')\n",
        "os.mkdir('/content/images/test')\n",
        "os.mkdir('/content/images/train/anger')\n",
        "os.mkdir('/content/images/train/sadness')\n",
        "os.mkdir('/content/images/train/happy')\n",
        "os.mkdir('/content/images/train/fear')\n",
        "os.mkdir('/content/images/train/surprise')\n",
        "os.mkdir('/content/images/train/disgust')\n",
        "os.mkdir('/content/images/train/contempt')\n",
        "os.mkdir('/content/images/test/anger')\n",
        "os.mkdir('/content/images/test/sadness')\n",
        "os.mkdir('/content/images/test/happy')\n",
        "os.mkdir('/content/images/test/fear')\n",
        "os.mkdir('/content/images/test/surprise')\n",
        "os.mkdir('/content/images/test/contempt')\n",
        "os.mkdir('/content/images/test/disgust')"
      ],
      "metadata": {
        "id": "tWYhDnrolRJI"
      },
      "execution_count": null,
      "outputs": []
    },
    {
      "cell_type": "code",
      "source": [
        "def split_data(SOURCE, TRAINING, TESTING, SPLIT_SIZE):  # A function that splits the data present in source directory\n",
        "    files = []                                          # into training and test sets\n",
        "    for filename in os.listdir(SOURCE):                 # filename is the name of image files in the source dir\n",
        "        file = SOURCE + filename                        # this file will contain the path of the images\n",
        "        if os.path.getsize(file) > 0:                   # files will contain the paths of all images in source dir\n",
        "            files.append(filename)\n",
        "        else:\n",
        "            print(filename + \" is zero length, so ignoring.\")\n",
        "    #print(len(files))\n",
        "    training_length = int(len(files) * SPLIT_SIZE)       \n",
        "    testing_length = int(len(files) - training_length)\n",
        "    shuffled_set = random.sample(files, len(files))\n",
        "    training_set = shuffled_set[0:training_length]\n",
        "    testing_set = shuffled_set[:testing_length]\n",
        "\n",
        "    for filename in training_set:\n",
        "        this_file = SOURCE + filename\n",
        "        destination = TRAINING + filename\n",
        "        copyfile(this_file, destination)\n",
        "\n",
        "    for filename in testing_set:\n",
        "        this_file = SOURCE + filename\n",
        "        destination = TESTING + filename\n",
        "        copyfile(this_file, destination)"
      ],
      "metadata": {
        "id": "KO0PqgNOlTlM"
      },
      "execution_count": null,
      "outputs": []
    },
    {
      "cell_type": "code",
      "source": [
        "split_size = 0.8\n",
        "anger_train_dir = '/content/images/train/anger/'\n",
        "sadness_train_dir = '/content/images/train/sadness/'\n",
        "disgust_train_dir = '/content/images/train/disgust/'\n",
        "happy_train_dir = '/content/images/train/happy/'\n",
        "fear_train_dir = '/content/images/train/fear/'\n",
        "contempt_train_dir = '/content/images/train/contempt/'\n",
        "surprise_train_dir = '/content/images/train/surprise/'\n",
        "\n",
        "anger_test_dir = '/content/images/test/anger/'\n",
        "sadness_test_dir = '/content/images/test/sadness/'\n",
        "disgust_test_dir = '/content/images/test/disgust/'\n",
        "happy_test_dir = '/content/images/test/happy/'\n",
        "fear_test_dir = '/content/images/test/fear/'\n",
        "contempt_test_dir = '/content/images/test/contempt/'\n",
        "surprise_test_dir = '/content/images/test/surprise/'\n",
        "\n",
        "anger_source_dir = '/content/CK+48/anger/'\n",
        "sadness_source_dir = '/content/CK+48/sadness/'\n",
        "disgust_source_dir = '/content/CK+48/disgust/'\n",
        "happy_source_dir = '/content/CK+48/happy/'\n",
        "fear_source_dir = '/content/CK+48/fear/'\n",
        "contempt_source_dir = '/content/CK+48/contempt/'\n",
        "surprise_source_dir = '/content/CK+48/surprise/'"
      ],
      "metadata": {
        "id": "J3dzEMndl7vY"
      },
      "execution_count": null,
      "outputs": []
    },
    {
      "cell_type": "code",
      "source": [
        "len(os.listdir(anger_source_dir))"
      ],
      "metadata": {
        "colab": {
          "base_uri": "https://localhost:8080/"
        },
        "id": "KRmdC9Vvl_vo",
        "outputId": "7843a6be-cb19-49ac-f0a4-c8fdbc887133"
      },
      "execution_count": null,
      "outputs": [
        {
          "output_type": "execute_result",
          "data": {
            "text/plain": [
              "135"
            ]
          },
          "metadata": {},
          "execution_count": 42
        }
      ]
    },
    {
      "cell_type": "code",
      "source": [
        "split_data(anger_source_dir,anger_train_dir,anger_test_dir,split_size)\n",
        "split_data(sadness_source_dir,sadness_train_dir,sadness_test_dir,split_size)\n",
        "split_data(disgust_source_dir,disgust_train_dir,disgust_test_dir,split_size)\n",
        "split_data(happy_source_dir,happy_train_dir,happy_test_dir,split_size)\n",
        "split_data(fear_source_dir,fear_train_dir,fear_test_dir,split_size)\n",
        "split_data(contempt_source_dir,contempt_train_dir,contempt_test_dir,split_size)\n",
        "split_data(surprise_source_dir,surprise_train_dir,surprise_test_dir,split_size)"
      ],
      "metadata": {
        "id": "3o8WXP5ZmCoW"
      },
      "execution_count": null,
      "outputs": []
    },
    {
      "cell_type": "code",
      "source": [
        "TRAINING_DIR = \"/content/images/train\"\n",
        "train_datagen = ImageDataGenerator(rescale=1./255,\n",
        "      horizontal_flip=True,\n",
        "      rotation_range=2,                          \n",
        "      preprocessing_function=preprocessing\n",
        "      )\n",
        "train_generator = train_datagen.flow_from_directory(TRAINING_DIR,\n",
        "                                                    batch_size=50,\n",
        "                                                    class_mode='categorical',\n",
        "                                                    target_size=(100,100),\n",
        "                                                    shuffle=True,\n",
        "                                                    color_mode='grayscale')\n",
        "\n",
        "VALIDATION_DIR = \"/content/images/test\"\n",
        "validation_datagen = ImageDataGenerator(\n",
        "    rescale=1./255,\n",
        "      horizontal_flip=True,\n",
        "      rotation_range=2,\n",
        "      preprocessing_function=preprocessing\n",
        "      )\n",
        "validation_generator = validation_datagen.flow_from_directory(VALIDATION_DIR,\n",
        "                                                              batch_size=50,\n",
        "                                                              class_mode='categorical',\n",
        "                                                              target_size=(100,100),\n",
        "                                                              shuffle=True,\n",
        "                                                    color_mode='grayscale')\n",
        "validation_generator.shuffle = False\n",
        "validation_generator.index_array = None"
      ],
      "metadata": {
        "colab": {
          "base_uri": "https://localhost:8080/"
        },
        "id": "5rHdiwq5mz2D",
        "outputId": "99521bb9-7f96-4496-c41e-544bcce752d1"
      },
      "execution_count": null,
      "outputs": [
        {
          "output_type": "stream",
          "name": "stdout",
          "text": [
            "Found 783 images belonging to 7 classes.\n",
            "Found 198 images belonging to 7 classes.\n"
          ]
        }
      ]
    },
    {
      "cell_type": "code",
      "source": [
        "def CNN_model_with_0_neurons(num_of_classes):\n",
        "    \n",
        "    model = tf.keras.models.Sequential([\n",
        "        tf.keras.layers.Conv2D(32, (5,5), activation = 'relu', name = 'conv2d_1',),\n",
        "        tf.keras.layers.MaxPooling2D((2,2), name = 'max_pool_1'),\n",
        "        \n",
        "        tf.keras.layers.Conv2D(64,(5,5), activation = 'relu', name = 'conv2d_2'),\n",
        "        tf.keras.layers.MaxPooling2D((2,2), name = 'max_pool_2'),\n",
        "        \n",
        "        tf.keras.layers.Flatten(name = 'flatten_1'),\n",
        "\n",
        "        tf.keras.layers.Dropout(0.5),\n",
        "        tf.keras.layers.Dense(num_of_classes,activation = 'softmax')\n",
        "    ])\n",
        "    return model"
      ],
      "metadata": {
        "id": "uT5hsaQzm5gE"
      },
      "execution_count": null,
      "outputs": []
    },
    {
      "cell_type": "code",
      "source": [
        "def CNN_model_with_256_neurons(num_of_classes):\n",
        "    \n",
        "    model = tf.keras.models.Sequential([\n",
        "        tf.keras.layers.Conv2D(32, (5,5), activation = 'relu', name = 'conv2d_1',),\n",
        "        tf.keras.layers.MaxPooling2D((2,2), name = 'max_pool_1'),\n",
        "        \n",
        "        tf.keras.layers.Conv2D(64,(5,5), activation = 'relu', name = 'conv2d_2'),\n",
        "        tf.keras.layers.MaxPooling2D((2,2), name = 'max_pool_2'),\n",
        "        \n",
        "        tf.keras.layers.Flatten(name = 'flatten_1'),\n",
        "\n",
        "        tf.keras.layers.Dense(256, activation = 'relu', name = \"full_connected_1\"),\n",
        "\n",
        "        tf.keras.layers.Dropout(0.5),\n",
        "        tf.keras.layers.Dense(num_of_classes,activation = 'softmax')\n",
        "    ])\n",
        "    return model"
      ],
      "metadata": {
        "id": "scW9077fnByg"
      },
      "execution_count": null,
      "outputs": []
    },
    {
      "cell_type": "code",
      "source": [
        "def CNN_model_with_512_neurons(num_of_classes):\n",
        "    \n",
        "    model = tf.keras.models.Sequential([\n",
        "        tf.keras.layers.Conv2D(32, (5,5), activation = 'relu', name = 'conv2d_1',),\n",
        "        tf.keras.layers.MaxPooling2D((2,2), name = 'max_pool_1'),\n",
        "        \n",
        "        tf.keras.layers.Conv2D(64,(5,5), activation = 'relu', name = 'conv2d_2'),\n",
        "        tf.keras.layers.MaxPooling2D((2,2), name = 'max_pool_2'),\n",
        "        \n",
        "        tf.keras.layers.Flatten(name = 'flatten_1'),\n",
        "\n",
        "        tf.keras.layers.Dense(512, activation = 'relu', name = \"full_connected_1\"),\n",
        "\n",
        "        tf.keras.layers.Dropout(0.5),\n",
        "        tf.keras.layers.Dense(num_of_classes,activation = 'softmax')\n",
        "    ])\n",
        "    return model"
      ],
      "metadata": {
        "id": "Wfw9EtWonOEn"
      },
      "execution_count": null,
      "outputs": []
    },
    {
      "cell_type": "code",
      "source": [
        "def CNN_model_with_1024_neurons(num_of_classes):\n",
        "    \n",
        "    model = tf.keras.models.Sequential([\n",
        "        tf.keras.layers.Conv2D(32, (5,5), activation = 'relu', name = 'conv2d_1',),\n",
        "        tf.keras.layers.MaxPooling2D((2,2), name = 'max_pool_1'),\n",
        "        \n",
        "        tf.keras.layers.Conv2D(64,(5,5), activation = 'relu', name = 'conv2d_2'),\n",
        "        tf.keras.layers.MaxPooling2D((2,2), name = 'max_pool_2'),\n",
        "        \n",
        "        tf.keras.layers.Flatten(name = 'flatten_1'),\n",
        "\n",
        "        tf.keras.layers.Dense(1024, activation = 'relu', name = \"full_connected_1\"),\n",
        "\n",
        "        tf.keras.layers.Dropout(0.5),\n",
        "        tf.keras.layers.Dense(num_of_classes,activation = 'softmax')\n",
        "    ])\n",
        "    return model"
      ],
      "metadata": {
        "id": "OenxMO2onQxX"
      },
      "execution_count": null,
      "outputs": []
    },
    {
      "cell_type": "code",
      "source": [
        "model = CNN_model_with_0_neurons(7)\n",
        "model.compile(optimizer = 'adam', loss = 'categorical_crossentropy',metrics = ['accuracy'])\n"
      ],
      "metadata": {
        "id": "2FN4RUmonT4N"
      },
      "execution_count": null,
      "outputs": []
    },
    {
      "cell_type": "code",
      "source": [
        "class myCallback(tf.keras.callbacks.Callback):\n",
        "  def on_epoch_end(self, epoch, logs={}):\n",
        "    if(logs.get('accuracy')>0.99):\n",
        "      print(\"\\nReached 99% accuracy so cancelling training!\")\n",
        "      self.model.stop_training = True"
      ],
      "metadata": {
        "id": "vwopXjmLnXP5"
      },
      "execution_count": null,
      "outputs": []
    },
    {
      "cell_type": "code",
      "source": [
        "callbacks = myCallback()\n",
        "history = model.fit(train_generator,epochs=10,callbacks=[callbacks],batch_size=50,shuffle=True,validation_data=validation_generator)"
      ],
      "metadata": {
        "colab": {
          "base_uri": "https://localhost:8080/"
        },
        "id": "J0Hx0mhlnbRc",
        "outputId": "21e0176b-8c27-423c-cf62-d7472c61d43d"
      },
      "execution_count": null,
      "outputs": [
        {
          "output_type": "stream",
          "name": "stdout",
          "text": [
            "Epoch 1/10\n",
            "16/16 [==============================] - 40s 3s/step - loss: 1.5263 - accuracy: 0.4828 - val_loss: 0.7503 - val_accuracy: 0.8030\n",
            "Epoch 2/10\n",
            "16/16 [==============================] - 39s 2s/step - loss: 0.5979 - accuracy: 0.7918 - val_loss: 0.3411 - val_accuracy: 0.8737\n",
            "Epoch 3/10\n",
            "16/16 [==============================] - 39s 2s/step - loss: 0.3030 - accuracy: 0.9004 - val_loss: 0.2179 - val_accuracy: 0.9141\n",
            "Epoch 4/10\n",
            "16/16 [==============================] - 47s 3s/step - loss: 0.1828 - accuracy: 0.9476 - val_loss: 0.0716 - val_accuracy: 0.9798\n",
            "Epoch 5/10\n",
            "16/16 [==============================] - 39s 2s/step - loss: 0.1246 - accuracy: 0.9668 - val_loss: 0.0332 - val_accuracy: 1.0000\n",
            "Epoch 6/10\n",
            "16/16 [==============================] - 45s 3s/step - loss: 0.0611 - accuracy: 0.9796 - val_loss: 0.0471 - val_accuracy: 0.9798\n",
            "Epoch 7/10\n",
            "16/16 [==============================] - ETA: 0s - loss: 0.0399 - accuracy: 0.9911\n",
            "Reached 99% accuracy so cancelling training!\n",
            "16/16 [==============================] - 50s 3s/step - loss: 0.0399 - accuracy: 0.9911 - val_loss: 0.0113 - val_accuracy: 1.0000\n"
          ]
        }
      ]
    },
    {
      "cell_type": "code",
      "source": [
        "acc = history.history['accuracy']\n",
        "val_acc = history.history['val_accuracy']\n",
        "loss = history.history['loss']\n",
        "val_loss = history.history['val_loss']\n",
        "\n",
        "epochs = range(len(acc))\n",
        "\n",
        "plt.plot(epochs, acc, 'r', label='Training accuracy')\n",
        "plt.plot(epochs, val_acc, 'b', label='Validation accuracy')\n",
        "plt.title('Training and validation accuracy with 256 neurons')\n",
        "plt.legend(loc=0)\n",
        "plt.grid()\n",
        "plt.show()"
      ],
      "metadata": {
        "colab": {
          "base_uri": "https://localhost:8080/",
          "height": 281
        },
        "id": "HB9Y7qhdngQU",
        "outputId": "7b716f82-7cd6-40d1-d3f8-460cf8d585f7"
      },
      "execution_count": null,
      "outputs": [
        {
          "output_type": "display_data",
          "data": {
            "text/plain": [
              "<Figure size 432x288 with 1 Axes>"
            ],
            "image/png": "[encoded data removed]"
          },
          "metadata": {
            "needs_background": "light"
          }
        }
      ]
    },
    {
      "cell_type": "code",
      "source": [
        "emotion = os.listdir('/content/images/train')\n",
        "import itertools\n",
        "from sklearn.metrics import confusion_matrix,classification_report\n",
        "def plot_confusion_matrix(cm):\n",
        "    print(cm)\n",
        "    cm = cm.astype('float') / cm.sum(axis=1)[:, np.newaxis]\n",
        "    plt.imshow(cm, interpolation='nearest', cmap=\"BuPu\")\n",
        "    plt.title('Confusion Matrix on Validation Data')\n",
        "    plt.colorbar()\n",
        "    tick_marks = np.arange(len(emotion))\n",
        "    plt.xticks(tick_marks, emotion,rotation=45)\n",
        "    plt.yticks(tick_marks, emotion)\n",
        "\n",
        "    fmt = '.2f'\n",
        "    thresh = cm.max() / 2.\n",
        "    for i, j in itertools.product(range(cm.shape[0]), range(cm.shape[1])):\n",
        "        plt.text(j, i, format(cm[i, j], fmt),\n",
        "                 horizontalalignment=\"center\",\n",
        "                 color=\"white\" if cm[i, j] > thresh else \"black\")\n",
        "\n",
        "    plt.ylabel('True Emotions')\n",
        "    plt.xlabel('Predicted Emotions')\n",
        "    plt.show()\n",
        "predictions = model.predict(validation_generator,  4)\n",
        "\n",
        "y_pred = np.argmax(predictions, axis=1)\n",
        "plot_confusion_matrix(confusion_matrix(validation_generator.classes, y_pred))"
      ],
      "metadata": {
        "colab": {
          "base_uri": "https://localhost:8080/",
          "height": 447
        },
        "id": "Oz_PpdEqoEv4",
        "outputId": "8d9a038a-84fa-4762-d9e8-a1b72e4a8641"
      },
      "execution_count": null,
      "outputs": [
        {
          "output_type": "stream",
          "name": "stdout",
          "text": [
            "[[27  0  0  0  0  0  0]\n",
            " [ 0 11  0  0  0  0  0]\n",
            " [ 0  0 36  0  0  0  0]\n",
            " [ 0  0  0 15  0  0  0]\n",
            " [ 0  0  0  0 42  0  0]\n",
            " [ 0  0  0  0  0 17  0]\n",
            " [ 0  0  0  0  0  0 50]]\n"
          ]
        },
        {
          "output_type": "display_data",
          "data": {
            "text/plain": [
              "<Figure size 432x288 with 2 Axes>"
            ],
            "image/png": "[encoded data removed]"
          },
          "metadata": {
            "needs_background": "light"
          }
        }
      ]
    },
    {
      "cell_type": "code",
      "source": [
        "os.mkdir('/content/folds')\n",
        "for i in range(0,10):\n",
        "  os.mkdir('/content/folds/fold'+str(i))\n",
        "  os.mkdir('/content/folds/fold'+str(i)+'/train')\n",
        "  os.mkdir('/content/folds/fold'+str(i)+'/test')\n",
        "  for j in os.listdir('/content/CK+48'):\n",
        "    os.mkdir('/content/folds/fold'+str(i)+'/train/'+j)\n",
        "    os.mkdir('/content/folds/fold'+str(i)+'/test/'+j)"
      ],
      "metadata": {
        "id": "aU-M1LbjoJ6Y"
      },
      "execution_count": null,
      "outputs": []
    },
    {
      "cell_type": "code",
      "source": [
        "for i in range(0,10):\n",
        "  fold_path = '/content/folds/fold' + str(i)\n",
        "  test_fold = '/content/folds/fold' + str(i) + '/test'\n",
        "  train_fold = '/content/folds/fold' + str(i) + '/train'\n",
        "  for j in os.listdir(train_fold):\n",
        "    emotion_train_fold = train_fold + '/' + j\n",
        "    emotion_test_fold = test_fold + '/' + j\n",
        "    emotion_source = '/content/CK+48/' + j\n",
        "    length = len(os.listdir(emotion_source))\n",
        "    initial_size = int(i*length/10)\n",
        "    final_size = int((i+1)*length/10)\n",
        "    files = []\n",
        "    for k in os.listdir(emotion_source):\n",
        "      path = emotion_source + '/' + k \n",
        "      files.append(k)\n",
        "    testing_set = files[initial_size:final_size]\n",
        "    training_set = []\n",
        "    for n in files:\n",
        "      if n not in testing_set:\n",
        "        training_set.append(n)\n",
        "    for filename in training_set:\n",
        "      src = emotion_source + '/' + filename\n",
        "      des = emotion_train_fold + '/' + filename\n",
        "      copyfile(src,des)\n",
        "    for filename in testing_set:\n",
        "      src = emotion_source + '/' + filename\n",
        "      des = emotion_test_fold + '/' + filename\n",
        "      copyfile(src,des)"
      ],
      "metadata": {
        "id": "3wIm6uCuof6S"
      },
      "execution_count": null,
      "outputs": []
    },
    {
      "cell_type": "code",
      "source": [
        "sum_acc=0\n",
        "for i in range(0,10):\n",
        "  fold_path = '/content/folds/fold' + str(i)\n",
        "  TRAINING_DIR = train_fold = '/content/folds/fold' + str(i) + '/train'\n",
        "  train_datagen = ImageDataGenerator(rescale=1./255,\n",
        "      horizontal_flip=True,\n",
        "      rotation_range=2,                          \n",
        "      preprocessing_function=preprocessing\n",
        "      )\n",
        "  train_generator = train_datagen.flow_from_directory(TRAINING_DIR,\n",
        "                                                    batch_size=50,\n",
        "                                                    class_mode='categorical',\n",
        "                                                    target_size=(100,100),\n",
        "                                                    shuffle=True,\n",
        "                                                    color_mode='grayscale')\n",
        "\n",
        "  VALIDATION_DIR = '/content/folds/fold' + str(i) + '/test'\n",
        "  validation_datagen = ImageDataGenerator(\n",
        "    rescale=1./255,\n",
        "      horizontal_flip=True,\n",
        "      rotation_range=2,\n",
        "      preprocessing_function=preprocessing\n",
        "      )\n",
        "  validation_generator = validation_datagen.flow_from_directory(VALIDATION_DIR,\n",
        "                                                              batch_size=50,\n",
        "                                                              class_mode='categorical',\n",
        "                                                              target_size=(100,100),\n",
        "                                                              shuffle=True,\n",
        "                                                    color_mode='grayscale')\n",
        "  validation_generator.shuffle = False\n",
        "  validation_generator.index_array = None\n",
        "  model = CNN_model_with_256_neurons(7)\n",
        "  model.compile(optimizer = 'adam', loss = 'categorical_crossentropy',metrics = ['accuracy'])\n",
        "  history = model.fit(train_generator,epochs=10,batch_size=50,shuffle=True)\n",
        "  test_loss,test_acc=model.evaluate(validation_generator)\n",
        "  sum_acc=sum_acc+test_acc\n",
        "avg_acc=sum_acc/10\n",
        "print(avg_acc)"
      ],
      "metadata": {
        "colab": {
          "base_uri": "https://localhost:8080/"
        },
        "id": "TxfCv1Fvoiq4",
        "outputId": "21f6df4b-ebe3-4a08-c946-7ee518c0ee61"
      },
      "execution_count": null,
      "outputs": [
        {
          "metadata": {
            "tags": null
          },
          "name": "stdout",
          "output_type": "stream",
          "text": [
            "Found 887 images belonging to 7 classes.\n",
            "Found 94 images belonging to 7 classes.\n",
            "Epoch 1/10\n",
            "18/18 [==============================] - 39s 2s/step - loss: 2.1852 - accuracy: 0.3754\n",
            "Epoch 2/10\n",
            "18/18 [==============================] - 38s 2s/step - loss: 1.3147 - accuracy: 0.5817\n",
            "Epoch 3/10\n",
            "18/18 [==============================] - 39s 2s/step - loss: 0.6345 - accuracy: 0.7926\n",
            "Epoch 4/10\n",
            "18/18 [==============================] - 38s 2s/step - loss: 0.4019 - accuracy: 0.8523\n",
            "Epoch 5/10\n",
            "18/18 [==============================] - 38s 2s/step - loss: 0.2989 - accuracy: 0.9042\n",
            "Epoch 6/10\n",
            "18/18 [==============================] - 38s 2s/step - loss: 0.2228 - accuracy: 0.9369\n",
            "Epoch 7/10\n",
            "18/18 [==============================] - 38s 2s/step - loss: 0.1863 - accuracy: 0.9290\n",
            "Epoch 8/10\n",
            "18/18 [==============================] - 38s 2s/step - loss: 0.1537 - accuracy: 0.9560\n",
            "Epoch 9/10\n",
            "18/18 [==============================] - 38s 2s/step - loss: 0.1270 - accuracy: 0.9538\n",
            "Epoch 10/10\n",
            "18/18 [==============================] - 38s 2s/step - loss: 0.1163 - accuracy: 0.9594\n",
            "2/2 [==============================] - 3s 1s/step - loss: 0.1013 - accuracy: 0.9681\n",
            "Found 882 images belonging to 7 classes.\n",
            "Found 99 images belonging to 7 classes.\n",
            "Epoch 1/10\n",
            "18/18 [==============================] - 39s 2s/step - loss: 2.3910 - accuracy: 0.3288\n",
            "Epoch 2/10\n",
            "18/18 [==============================] - 38s 2s/step - loss: 1.3709 - accuracy: 0.5522\n",
            "Epoch 3/10\n",
            "18/18 [==============================] - 38s 2s/step - loss: 0.8403 - accuracy: 0.7041\n",
            "Epoch 4/10\n",
            "18/18 [==============================] - 38s 2s/step - loss: 0.5976 - accuracy: 0.7721\n",
            "Epoch 5/10\n",
            "18/18 [==============================] - 40s 2s/step - loss: 0.4272 - accuracy: 0.8503\n",
            "Epoch 6/10\n",
            "18/18 [==============================] - 38s 2s/step - loss: 0.3789 - accuracy: 0.8662\n",
            "Epoch 7/10\n",
            "18/18 [==============================] - 38s 2s/step - loss: 0.3052 - accuracy: 0.8946\n",
            "Epoch 8/10\n",
            "18/18 [==============================] - 38s 2s/step - loss: 0.2353 - accuracy: 0.9127\n",
            "Epoch 9/10\n",
            "18/18 [==============================] - 38s 2s/step - loss: 0.1799 - accuracy: 0.9354\n",
            "Epoch 10/10\n",
            "18/18 [==============================] - 38s 2s/step - loss: 0.1531 - accuracy: 0.9524\n",
            "2/2 [==============================] - 3s 1s/step - loss: 0.0765 - accuracy: 0.9697\n",
            "Found 882 images belonging to 7 classes.\n",
            "Found 99 images belonging to 7 classes.\n",
            "Epoch 1/10\n",
            "18/18 [==============================] - 38s 2s/step - loss: 2.4889 - accuracy: 0.3107\n",
            "Epoch 2/10\n",
            "18/18 [==============================] - 38s 2s/step - loss: 1.0430 - accuracy: 0.6497\n",
            "Epoch 3/10\n",
            "18/18 [==============================] - 37s 2s/step - loss: 0.6649 - accuracy: 0.7710\n",
            "Epoch 4/10\n",
            "18/18 [==============================] - 37s 2s/step - loss: 0.4343 - accuracy: 0.8390\n",
            "Epoch 5/10\n",
            "18/18 [==============================] - 36s 2s/step - loss: 0.3307 - accuracy: 0.8878\n",
            "Epoch 6/10\n",
            "18/18 [==============================] - 38s 2s/step - loss: 0.2968 - accuracy: 0.8866\n",
            "Epoch 7/10\n",
            "18/18 [==============================] - 38s 2s/step - loss: 0.2312 - accuracy: 0.9252\n",
            "Epoch 8/10\n",
            "18/18 [==============================] - 38s 2s/step - loss: 0.2021 - accuracy: 0.9365\n",
            "Epoch 9/10\n",
            "18/18 [==============================] - 38s 2s/step - loss: 0.1559 - accuracy: 0.9490\n",
            "Epoch 10/10\n",
            "18/18 [==============================] - 38s 2s/step - loss: 0.1517 - accuracy: 0.9512\n",
            "2/2 [==============================] - 3s 1s/step - loss: 0.0596 - accuracy: 0.9798\n",
            "Found 884 images belonging to 7 classes.\n",
            "Found 97 images belonging to 7 classes.\n",
            "Epoch 1/10\n",
            "18/18 [==============================] - 39s 2s/step - loss: 2.2592 - accuracy: 0.2828\n",
            "Epoch 2/10\n",
            "18/18 [==============================] - 38s 2s/step - loss: 1.5130 - accuracy: 0.4672\n",
            "Epoch 3/10\n",
            "18/18 [==============================] - 38s 2s/step - loss: 0.8202 - accuracy: 0.7070\n",
            "Epoch 4/10\n",
            "18/18 [==============================] - 38s 2s/step - loss: 0.5617 - accuracy: 0.8077\n",
            "Epoch 5/10\n",
            "18/18 [==============================] - 38s 2s/step - loss: 0.4168 - accuracy: 0.8484\n",
            "Epoch 6/10\n",
            "18/18 [==============================] - 38s 2s/step - loss: 0.3268 - accuracy: 0.8790\n",
            "Epoch 7/10\n",
            "18/18 [==============================] - 38s 2s/step - loss: 0.2778 - accuracy: 0.8993\n",
            "Epoch 8/10\n",
            "18/18 [==============================] - 38s 2s/step - loss: 0.2307 - accuracy: 0.9152\n",
            "Epoch 9/10\n",
            "18/18 [==============================] - 38s 2s/step - loss: 0.1568 - accuracy: 0.9548\n",
            "Epoch 10/10\n",
            "18/18 [==============================] - 38s 2s/step - loss: 0.1278 - accuracy: 0.9525\n"
          ]
        },
        {
          "metadata": {
            "tags": null
          },
          "name": "stderr",
          "output_type": "stream",
          "text": [
            "WARNING:tensorflow:5 out of the last 35 calls to <function Model.make_test_function.<locals>.test_function at 0x7f4076a838c0> triggered tf.function retracing. Tracing is expensive and the excessive number of tracings could be due to (1) creating @tf.function repeatedly in a loop, (2) passing tensors with different shapes, (3) passing Python objects instead of tensors. For (1), please define your @tf.function outside of the loop. For (2), @tf.function has experimental_relax_shapes=True option that relaxes argument shapes that can avoid unnecessary retracing. For (3), please refer to https://www.tensorflow.org/guide/function#controlling_retracing and https://www.tensorflow.org/api_docs/python/tf/function for  more details.\n"
          ]
        },
        {
          "metadata": {
            "tags": null
          },
          "name": "stdout",
          "output_type": "stream",
          "text": [
            "2/2 [==============================] - 3s 1s/step - loss: 0.1636 - accuracy: 0.9072\n",
            "Found 882 images belonging to 7 classes.\n",
            "Found 99 images belonging to 7 classes.\n",
            "Epoch 1/10\n",
            "18/18 [==============================] - 39s 2s/step - loss: 1.9838 - accuracy: 0.4138\n",
            "Epoch 2/10\n",
            "18/18 [==============================] - 38s 2s/step - loss: 0.8115 - accuracy: 0.7098\n",
            "Epoch 3/10\n",
            "18/18 [==============================] - 38s 2s/step - loss: 0.4373 - accuracy: 0.8435\n",
            "Epoch 4/10\n",
            "18/18 [==============================] - 38s 2s/step - loss: 0.2487 - accuracy: 0.9206\n",
            "Epoch 5/10\n",
            "18/18 [==============================] - 38s 2s/step - loss: 0.1973 - accuracy: 0.9410\n",
            "Epoch 6/10\n",
            "18/18 [==============================] - 38s 2s/step - loss: 0.1558 - accuracy: 0.9524\n",
            "Epoch 7/10\n",
            "18/18 [==============================] - 38s 2s/step - loss: 0.1154 - accuracy: 0.9592\n",
            "Epoch 8/10\n",
            "18/18 [==============================] - 38s 2s/step - loss: 0.0871 - accuracy: 0.9751\n",
            "Epoch 9/10\n",
            "18/18 [==============================] - 38s 2s/step - loss: 0.0757 - accuracy: 0.9739\n",
            "Epoch 10/10\n",
            "18/18 [==============================] - 38s 2s/step - loss: 0.0450 - accuracy: 0.9830\n"
          ]
        },
        {
          "metadata": {
            "tags": null
          },
          "name": "stderr",
          "output_type": "stream",
          "text": [
            "WARNING:tensorflow:6 out of the last 37 calls to <function Model.make_test_function.<locals>.test_function at 0x7f4076883830> triggered tf.function retracing. Tracing is expensive and the excessive number of tracings could be due to (1) creating @tf.function repeatedly in a loop, (2) passing tensors with different shapes, (3) passing Python objects instead of tensors. For (1), please define your @tf.function outside of the loop. For (2), @tf.function has experimental_relax_shapes=True option that relaxes argument shapes that can avoid unnecessary retracing. For (3), please refer to https://www.tensorflow.org/guide/function#controlling_retracing and https://www.tensorflow.org/api_docs/python/tf/function for  more details.\n"
          ]
        },
        {
          "output_type": "stream",
          "name": "stdout",
          "text": [
            "2/2 [==============================] - 3s 1s/step - loss: 0.0507 - accuracy: 0.9899\n",
            "Found 882 images belonging to 7 classes.\n",
            "Found 99 images belonging to 7 classes.\n",
            "Epoch 1/10\n",
            "18/18 [==============================] - 39s 2s/step - loss: 1.6387 - accuracy: 0.4535\n",
            "Epoch 2/10\n",
            "18/18 [==============================] - 38s 2s/step - loss: 0.7326 - accuracy: 0.7506\n",
            "Epoch 3/10\n",
            "18/18 [==============================] - 38s 2s/step - loss: 0.3826 - accuracy: 0.8605\n",
            "Epoch 4/10\n",
            "18/18 [==============================] - 38s 2s/step - loss: 0.2350 - accuracy: 0.9172\n",
            "Epoch 5/10\n",
            "18/18 [==============================] - 38s 2s/step - loss: 0.1502 - accuracy: 0.9490\n",
            "Epoch 6/10\n",
            "18/18 [==============================] - 38s 2s/step - loss: 0.0835 - accuracy: 0.9751\n",
            "Epoch 7/10\n",
            "18/18 [==============================] - 38s 2s/step - loss: 0.0842 - accuracy: 0.9694\n",
            "Epoch 8/10\n",
            "18/18 [==============================] - 38s 2s/step - loss: 0.0607 - accuracy: 0.9819\n",
            "Epoch 9/10\n",
            "18/18 [==============================] - 38s 2s/step - loss: 0.0436 - accuracy: 0.9819\n",
            "Epoch 10/10\n",
            "18/18 [==============================] - 38s 2s/step - loss: 0.0345 - accuracy: 0.9887\n",
            "2/2 [==============================] - 3s 1s/step - loss: 0.0321 - accuracy: 0.9899\n",
            "Found 886 images belonging to 7 classes.\n",
            "Found 95 images belonging to 7 classes.\n",
            "Epoch 1/10\n",
            "18/18 [==============================] - 39s 2s/step - loss: 1.5592 - accuracy: 0.5068\n",
            "Epoch 2/10\n",
            "18/18 [==============================] - 38s 2s/step - loss: 0.5444 - accuracy: 0.8081\n",
            "Epoch 3/10\n",
            "18/18 [==============================] - 38s 2s/step - loss: 0.2853 - accuracy: 0.9131\n",
            "Epoch 4/10\n",
            "18/18 [==============================] - 38s 2s/step - loss: 0.1752 - accuracy: 0.9379\n",
            "Epoch 5/10\n",
            "18/18 [==============================] - 38s 2s/step - loss: 0.1125 - accuracy: 0.9650\n",
            "Epoch 6/10\n",
            "18/18 [==============================] - 38s 2s/step - loss: 0.0664 - accuracy: 0.9831\n",
            "Epoch 7/10\n",
            "18/18 [==============================] - 38s 2s/step - loss: 0.0777 - accuracy: 0.9740\n",
            "Epoch 8/10\n",
            "18/18 [==============================] - 38s 2s/step - loss: 0.0728 - accuracy: 0.9774\n",
            "Epoch 9/10\n",
            "18/18 [==============================] - 38s 2s/step - loss: 0.0528 - accuracy: 0.9842\n",
            "Epoch 10/10\n",
            "18/18 [==============================] - 38s 2s/step - loss: 0.0414 - accuracy: 0.9797\n",
            "2/2 [==============================] - 3s 1s/step - loss: 0.0194 - accuracy: 1.0000\n",
            "Found 880 images belonging to 7 classes.\n",
            "Found 101 images belonging to 7 classes.\n",
            "Epoch 1/10\n",
            "18/18 [==============================] - 39s 2s/step - loss: 2.0895 - accuracy: 0.3318\n",
            "Epoch 2/10\n",
            "18/18 [==============================] - 38s 2s/step - loss: 1.1322 - accuracy: 0.6375\n",
            "Epoch 3/10\n",
            "18/18 [==============================] - 38s 2s/step - loss: 0.6965 - accuracy: 0.7591\n",
            "Epoch 4/10\n",
            "18/18 [==============================] - 37s 2s/step - loss: 0.4357 - accuracy: 0.8511\n",
            "Epoch 5/10\n",
            "18/18 [==============================] - 38s 2s/step - loss: 0.3706 - accuracy: 0.8773\n",
            "Epoch 6/10\n",
            "18/18 [==============================] - 38s 2s/step - loss: 0.2970 - accuracy: 0.9057\n",
            "Epoch 7/10\n",
            "18/18 [==============================] - 38s 2s/step - loss: 0.2608 - accuracy: 0.9080\n",
            "Epoch 8/10\n",
            "18/18 [==============================] - 38s 2s/step - loss: 0.2141 - accuracy: 0.9261\n",
            "Epoch 9/10\n",
            "18/18 [==============================] - 38s 2s/step - loss: 0.1794 - accuracy: 0.9398\n",
            "Epoch 10/10\n",
            "18/18 [==============================] - 38s 2s/step - loss: 0.1723 - accuracy: 0.9477\n",
            "3/3 [==============================] - 3s 664ms/step - loss: 0.1573 - accuracy: 0.9307\n",
            "Found 884 images belonging to 7 classes.\n",
            "Found 97 images belonging to 7 classes.\n",
            "Epoch 1/10\n",
            "18/18 [==============================] - 41s 2s/step - loss: 2.2726 - accuracy: 0.3032\n",
            "Epoch 2/10\n",
            "18/18 [==============================] - 38s 2s/step - loss: 1.2999 - accuracy: 0.5520\n",
            "Epoch 3/10\n",
            "18/18 [==============================] - 39s 2s/step - loss: 0.7999 - accuracy: 0.7229\n",
            "Epoch 4/10\n",
            "18/18 [==============================] - 39s 2s/step - loss: 0.6055 - accuracy: 0.7771\n",
            "Epoch 5/10\n",
            "18/18 [==============================] - 39s 2s/step - loss: 0.4825 - accuracy: 0.8281\n",
            "Epoch 6/10\n",
            "18/18 [==============================] - 38s 2s/step - loss: 0.3723 - accuracy: 0.8756\n",
            "Epoch 7/10\n",
            "18/18 [==============================] - 38s 2s/step - loss: 0.3086 - accuracy: 0.8891\n",
            "Epoch 8/10\n",
            "18/18 [==============================] - 38s 2s/step - loss: 0.2403 - accuracy: 0.9129\n",
            "Epoch 9/10\n",
            "18/18 [==============================] - 38s 2s/step - loss: 0.2298 - accuracy: 0.9163\n",
            "Epoch 10/10\n",
            "18/18 [==============================] - 39s 2s/step - loss: 0.1907 - accuracy: 0.9287\n",
            "2/2 [==============================] - 3s 1s/step - loss: 0.0839 - accuracy: 0.9897\n",
            "Found 880 images belonging to 7 classes.\n",
            "Found 101 images belonging to 7 classes.\n",
            "Epoch 1/10\n",
            "18/18 [==============================] - 40s 2s/step - loss: 2.0044 - accuracy: 0.3602\n",
            "Epoch 2/10\n",
            "18/18 [==============================] - 38s 2s/step - loss: 1.0053 - accuracy: 0.6545\n",
            "Epoch 3/10\n",
            "18/18 [==============================] - 38s 2s/step - loss: 0.5799 - accuracy: 0.8000\n",
            "Epoch 4/10\n",
            "18/18 [==============================] - 38s 2s/step - loss: 0.4010 - accuracy: 0.8580\n",
            "Epoch 5/10\n",
            "18/18 [==============================] - 37s 2s/step - loss: 0.3060 - accuracy: 0.8841\n",
            "Epoch 6/10\n",
            "18/18 [==============================] - 39s 2s/step - loss: 0.2530 - accuracy: 0.9114\n",
            "Epoch 7/10\n",
            "18/18 [==============================] - 37s 2s/step - loss: 0.2432 - accuracy: 0.9261\n",
            "Epoch 8/10\n",
            "18/18 [==============================] - 37s 2s/step - loss: 0.1623 - accuracy: 0.9477\n",
            "Epoch 9/10\n",
            "18/18 [==============================] - 38s 2s/step - loss: 0.1565 - accuracy: 0.9477\n",
            "Epoch 10/10\n",
            "18/18 [==============================] - 37s 2s/step - loss: 0.1806 - accuracy: 0.9341\n",
            "3/3 [==============================] - 3s 694ms/step - loss: 0.0790 - accuracy: 0.9802\n",
            "0.970517635345459\n"
          ]
        }
      ]
    },
    {
      "cell_type": "code",
      "source": [
        "image = cv2.imread('/content/Disgust.jpg',0)\n",
        "cv2_imshow(image)\n",
        "image = preprocessing(image)\n",
        "image = np.array(image)\n",
        "cv2_imshow(image)\n",
        "image = image.reshape(1,100,100,1)\n",
        "print('The emotion in the given figure is ' + emotion[np.argmax(model.predict(image))])\n"
      ],
      "metadata": {
        "colab": {
          "base_uri": "https://localhost:8080/",
          "height": 627
        },
        "id": "5zTB4V_-opzr",
        "outputId": "7f7a2aba-2615-452b-c4e2-29e2539d9e1e"
      },
      "execution_count": null,
      "outputs": [
        {
          "output_type": "display_data",
          "data": {
            "text/plain": [
              "<PIL.Image.Image image mode=L size=628x493 at 0x7F40709E6AD0>"
            ],
            "image/png": "[encoded data removed]"
          },
          "metadata": {}
        },
        {
          "output_type": "display_data",
          "data": {
            "text/plain": [
              "<PIL.Image.Image image mode=RGB size=100x100 at 0x7F4070A80ED0>"
            ],
            "image/png": "[encoded data removed]"
          },
          "metadata": {}
        },
        {
          "output_type": "stream",
          "name": "stdout",
          "text": [
            "The emotion in the given figure is sadness\n"
          ]
        }
      ]
    },
    {
      "cell_type": "code",
      "source": [],
      "metadata": {
        "id": "yV0dvdcw6R88"
      },
      "execution_count": null,
      "outputs": []
    }
  ]
}